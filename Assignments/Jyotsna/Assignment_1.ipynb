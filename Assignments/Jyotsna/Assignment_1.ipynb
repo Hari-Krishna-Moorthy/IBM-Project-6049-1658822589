{
  "cells": [
    {
      "cell_type": "markdown",
      "metadata": {
        "id": "3QDz8Pj0uLRO"
      },
      "source": [
        "<font size=\"6\"> **Python Basics**</font>"
      ]
    },
    {
      "cell_type": "markdown",
      "metadata": {
        "id": "EQFKYPBhuLRT"
      },
      "source": [
        "<font size=\"5\"> 1. Split this string</font>"
      ]
    },
    {
      "cell_type": "code",
      "execution_count": null,
      "metadata": {
        "id": "LwW0iyy2uLRU"
      },
      "outputs": [],
      "source": [
        "s = \"Hi there Sam!\""
      ]
    },
    {
      "cell_type": "code",
      "execution_count": null,
      "metadata": {
        "id": "5vwt4PlBuLRV",
        "outputId": "fbbd8f2c-cdc4-4537-e370-e689d95fd7f3"
      },
      "outputs": [
        {
          "name": "stdout",
          "output_type": "stream",
          "text": [
            "['Hi', 'there', 'Sam!']\n"
          ]
        }
      ],
      "source": [
        "s = \"Hi there Sam!\"\n",
        "x=s.split()\n",
        "print(x)"
      ]
    },
    {
      "cell_type": "markdown",
      "metadata": {
        "id": "hpvyMhufuLRW"
      },
      "source": [
        "<font size=\"5\"> 2. Use .format() to print the following string.</font>"
      ]
    },
    {
      "cell_type": "markdown",
      "metadata": {
        "id": "xaiNlhmauLRW"
      },
      "source": [
        "<font size=\"4\"> Output should be: The diameter of Earth is 12742 kilometers.</font>"
      ]
    },
    {
      "cell_type": "code",
      "execution_count": null,
      "metadata": {
        "id": "c_iA_GHHuLRX",
        "outputId": "69c422ea-fbcf-415c-c15d-f1a47e3022c6"
      },
      "outputs": [
        {
          "name": "stdout",
          "output_type": "stream",
          "text": [
            "The diameter of Earth is 12742 kilometers.\n"
          ]
        }
      ],
      "source": [
        "planet = \"Earth\"\n",
        "diameter = 12742\n",
        "print( 'The diameter of {} is {} kilometers.' .format(planet,diameter));"
      ]
    },
    {
      "cell_type": "markdown",
      "metadata": {
        "id": "xMuW-pVFuLRY"
      },
      "source": [
        "<font size=\"5\"> 3. In this nest dictionary grab the word \"hello\"</font>"
      ]
    },
    {
      "cell_type": "code",
      "execution_count": null,
      "metadata": {
        "id": "lTalxxuQuLRY",
        "outputId": "17ceeabe-eb82-4d20-85c0-174caeba61ea"
      },
      "outputs": [
        {
          "name": "stdout",
          "output_type": "stream",
          "text": [
            "hello\n"
          ]
        }
      ],
      "source": [
        "d = {'k1':[1,2,3,{'tricky':['oh','man','inception',{'target':[1,2,3,'hello']}]}]}\n",
        "print(d['k1'][3][\"tricky\"][3]['target'][3])"
      ]
    },
    {
      "cell_type": "markdown",
      "metadata": {
        "id": "bE9Uh8ssuLRZ"
      },
      "source": [
        "<font size=\"6\"> **Numpy**</font>"
      ]
    },
    {
      "cell_type": "code",
      "execution_count": null,
      "metadata": {
        "id": "IbxAubxYuLRZ"
      },
      "outputs": [],
      "source": [
        "import numpy as np"
      ]
    },
    {
      "cell_type": "markdown",
      "metadata": {
        "id": "XKdr9HeZuLRa"
      },
      "source": [
        "<font size=\"5\"> 4.1 Create an array of 10 zeros?</font>"
      ]
    },
    {
      "cell_type": "markdown",
      "metadata": {
        "id": "5d-K8XJ-uLRa"
      },
      "source": [
        "<font size=\"5\"> 4.2 Create an array of 10 fives?</font>"
      ]
    },
    {
      "cell_type": "code",
      "execution_count": null,
      "metadata": {
        "id": "WrNQIwvuuLRa",
        "outputId": "73702fde-79db-4bdd-8946-7d826d925e61"
      },
      "outputs": [
        {
          "name": "stdout",
          "output_type": "stream",
          "text": [
            "An array of 10 zeros:\n",
            "[0. 0. 0. 0. 0. 0. 0. 0. 0. 0.]\n"
          ]
        }
      ],
      "source": [
        "import numpy as np\n",
        "array=np.zeros(10)\n",
        "print(\"An array of 10 zeros:\")\n",
        "print(array)"
      ]
    },
    {
      "cell_type": "code",
      "execution_count": null,
      "metadata": {
        "id": "G0VSaWRJuLRb",
        "outputId": "dd41e9d2-222f-42a5-c66e-6f8771d84f60"
      },
      "outputs": [
        {
          "name": "stdout",
          "output_type": "stream",
          "text": [
            "An array of 10 fives:\n",
            "[5. 5. 5. 5. 5. 5. 5. 5. 5. 5.]\n"
          ]
        }
      ],
      "source": [
        "array=np.ones(10)*5\n",
        "print(\"An array of 10 fives:\")\n",
        "print(array)"
      ]
    },
    {
      "cell_type": "markdown",
      "metadata": {
        "id": "EOXXbJo5uLRb"
      },
      "source": [
        "<font size=\"5\"> 5. Create an array of all the even integers from 20 to 35</font>"
      ]
    },
    {
      "cell_type": "code",
      "execution_count": null,
      "metadata": {
        "id": "-Jf5cf1ZuLRc",
        "outputId": "98e715c5-ac70-4a31-f772-2bb72a4c4cdc"
      },
      "outputs": [
        {
          "name": "stdout",
          "output_type": "stream",
          "text": [
            "Array of all the even integers from 20 to 35\n",
            "[20 22 24 26 28 30 32 34]\n"
          ]
        }
      ],
      "source": [
        "import numpy as np\n",
        "array=np.arange(20,35,2)\n",
        "print(\"Array of all the even integers from 20 to 35\")\n",
        "print(array)"
      ]
    },
    {
      "cell_type": "markdown",
      "metadata": {
        "id": "4SmCyaahuLRc"
      },
      "source": [
        "<font size=\"5\"> 6. Create a 3x3 matrix with values ranging from 0 to 8</font>"
      ]
    },
    {
      "cell_type": "code",
      "execution_count": null,
      "metadata": {
        "id": "R38YCcDNuLRc",
        "outputId": "6f186d0a-ca8e-4cd0-fa1c-a2bb3f9d2501"
      },
      "outputs": [
        {
          "name": "stdout",
          "output_type": "stream",
          "text": [
            "[[0 1 2]\n",
            " [3 4 5]\n",
            " [6 7 8]]\n"
          ]
        }
      ],
      "source": [
        "array1=np.arange(0,9).reshape(3,3)\n",
        "print(array1)"
      ]
    },
    {
      "cell_type": "markdown",
      "metadata": {
        "id": "YnKrZf5UuLRd"
      },
      "source": [
        "<font size=\"5\"> 7. Concatenate a and b</font>"
      ]
    },
    {
      "cell_type": "markdown",
      "metadata": {
        "id": "JZFyheMeuLRd"
      },
      "source": [
        "<font size=\"5\"> a = np.array([1, 2, 3]), b = np.array([4, 5, 6])</font>"
      ]
    },
    {
      "cell_type": "code",
      "execution_count": null,
      "metadata": {
        "id": "Dqdg2BIiuLRd",
        "outputId": "efd6d06e-5ce1-4bcf-f59a-bda95911bca8"
      },
      "outputs": [
        {
          "name": "stdout",
          "output_type": "stream",
          "text": [
            "[1 2 3 4 5 6]\n"
          ]
        }
      ],
      "source": [
        "a = np.array([1, 2, 3])\n",
        "b = np.array([4, 5, 6])\n",
        "c=np.concatenate((a,b),axis=0)\n",
        "print(c)"
      ]
    },
    {
      "cell_type": "markdown",
      "metadata": {
        "id": "JG2vXktXuLRe"
      },
      "source": [
        "<font size=\"6\"> **Pandas**</font>"
      ]
    },
    {
      "cell_type": "markdown",
      "metadata": {
        "id": "0JcMHIibuLRe"
      },
      "source": [
        "<font size=\"5\"> 8. Create a dataframe with 3 rows and 2 columns</font>"
      ]
    },
    {
      "cell_type": "code",
      "execution_count": null,
      "metadata": {
        "id": "N7tyAk-buLRe",
        "outputId": "9acc4799-0909-4a5e-c1f9-afd83d81ffb4"
      },
      "outputs": [
        {
          "name": "stdout",
          "output_type": "stream",
          "text": [
            "     name  age\n",
            "0  Vishal    1\n",
            "1    Gaju    2\n",
            "2    Hari    3\n",
            "3    Josh    4\n",
            "4   Diran    5\n"
          ]
        }
      ],
      "source": [
        "import pandas as pd\n",
        "data=[[\"Vishal\",1],[\"Gaju\",2],[\"Hari\",3],[\"Josh\",4],[\"Diran\",5]]\n",
        "data1=pd.DataFrame(data,columns=[\"name\",\"age\"])\n",
        "print(data1)"
      ]
    },
    {
      "cell_type": "markdown",
      "metadata": {
        "id": "OVqs8H3quLRe"
      },
      "source": [
        "<font size=\"5\"> 9. Generate the series of dates from 1st Jan, 2023 to 10th Feb, 2023</font>"
      ]
    },
    {
      "cell_type": "code",
      "execution_count": null,
      "metadata": {
        "id": "M36C05aUuLRf",
        "outputId": "f04009ed-e05c-400d-c1d9-7f3c52f897b6"
      },
      "outputs": [
        {
          "name": "stdout",
          "output_type": "stream",
          "text": [
            "DatetimeIndex(['2023-01-01 00:00:00', '2023-01-01 05:00:00',\n",
            "               '2023-01-01 10:00:00', '2023-01-01 15:00:00',\n",
            "               '2023-01-01 20:00:00', '2023-01-02 01:00:00',\n",
            "               '2023-01-02 06:00:00', '2023-01-02 11:00:00',\n",
            "               '2023-01-02 16:00:00', '2023-01-02 21:00:00',\n",
            "               ...\n",
            "               '2023-09-30 02:00:00', '2023-09-30 07:00:00',\n",
            "               '2023-09-30 12:00:00', '2023-09-30 17:00:00',\n",
            "               '2023-09-30 22:00:00', '2023-10-01 03:00:00',\n",
            "               '2023-10-01 08:00:00', '2023-10-01 13:00:00',\n",
            "               '2023-10-01 18:00:00', '2023-10-01 23:00:00'],\n",
            "              dtype='datetime64[ns]', length=1316, freq='5H')\n"
          ]
        }
      ],
      "source": [
        "data4=pd.date_range(start=\"1-01-2023\",end=\"10-02-2023\",freq=\"5h\")\n",
        "print(data4)"
      ]
    },
    {
      "cell_type": "markdown",
      "metadata": {
        "id": "PB6dg7lUuLRf"
      },
      "source": [
        "<font size=\"5\"> 10. Create 2D list to DataFrame</font>"
      ]
    },
    {
      "cell_type": "code",
      "execution_count": null,
      "metadata": {
        "id": "A4mHBB2luLRf",
        "outputId": "a4efd5c7-6e43-4ac1-912e-e4b1fa02025a"
      },
      "outputs": [
        {
          "name": "stdout",
          "output_type": "stream",
          "text": [
            "   s.no Name  marks\n",
            "0     1  aaa     22\n",
            "1     2  bbb     25\n",
            "2     3  ccc     24\n"
          ]
        }
      ],
      "source": [
        "lists = [[1, 'aaa', 22], [2, 'bbb', 25], [3, 'ccc', 24]]\n",
        "data2=pd.DataFrame(lists,columns=[\"s.no\",\"Name\",\"marks\"])\n",
        "print(data2)"
      ]
    },
    {
      "cell_type": "code",
      "execution_count": null,
      "metadata": {
        "id": "Gxr2kLCFuLRf"
      },
      "outputs": [],
      "source": []
    }
  ],
  "metadata": {
    "kernelspec": {
      "display_name": "Python 3",
      "language": "python",
      "name": "python3"
    },
    "language_info": {
      "codemirror_mode": {
        "name": "ipython",
        "version": 3
      },
      "file_extension": ".py",
      "mimetype": "text/x-python",
      "name": "python",
      "nbconvert_exporter": "python",
      "pygments_lexer": "ipython3",
      "version": "3.7.3"
    },
    "colab": {
      "provenance": []
    }
  },
  "nbformat": 4,
  "nbformat_minor": 0
}